{
 "cells": [
  {
   "cell_type": "code",
   "execution_count": 3,
   "metadata": {},
   "outputs": [
    {
     "name": "stdout",
     "output_type": "stream",
     "text": [
      "Files larger than 100 MB:\n",
      "c:\\LocalUserData\\User-data\\nguyenb5\\Abaqus-UEL-Multiphysics\\.git\\objects\\pack\\pack-b3ddc99fa8410d4e968407e48cc44fc4e1afadf8.pack - 175.52 MB\n"
     ]
    }
   ],
   "source": [
    "import os\n",
    "\n",
    "def find_large_files(root_dir, min_size_mb):\n",
    "    min_size_bytes = min_size_mb * 1024 * 1024  # Convert MB to bytes\n",
    "    large_files = []\n",
    "    \n",
    "    for root, dirs, files in os.walk(root_dir):\n",
    "        for file in files:\n",
    "            file_path = os.path.join(root, file)\n",
    "            try:\n",
    "                file_size = os.path.getsize(file_path)\n",
    "                if file_size > min_size_bytes:\n",
    "                    size_mb = file_size / (1024 * 1024)\n",
    "                    large_files.append((file_path, size_mb))\n",
    "            except (OSError, PermissionError) as e:\n",
    "                print(f\"Error accessing {file_path}: {e}\")\n",
    "    \n",
    "    return large_files\n",
    "\n",
    "if __name__ == \"__main__\":\n",
    "    current_dir = os.getcwd()  # Get current working directory\n",
    "    min_size = 100  # Minimum size in MB\n",
    "    results = find_large_files(current_dir, min_size)\n",
    "\n",
    "    if results:\n",
    "        print(f\"Files larger than {min_size} MB:\")\n",
    "        for path, size in results:\n",
    "            print(f\"{path} - {size:.2f} MB\")\n",
    "    else:\n",
    "        print(\"No files larger than 100 MB found.\")"
   ]
  },
  {
   "cell_type": "markdown",
   "metadata": {},
   "source": []
  },
  {
   "cell_type": "code",
   "execution_count": 2,
   "metadata": {},
   "outputs": [
    {
     "name": "stdout",
     "output_type": "stream",
     "text": [
      "Deleted: c:\\LocalUserData\\User-data\\nguyenb5\\Abaqus-UEL-Multiphysics\\solver_cube_C3D8T_transient_nlgeom_on_4NP.odb\n",
      "Deleted: c:\\LocalUserData\\User-data\\nguyenb5\\Abaqus-UEL-Multiphysics\\solver_cube_C3D8T_transient_nlgeom_on_4NP_fix.odb\n",
      "Deleted: c:\\LocalUserData\\User-data\\nguyenb5\\Abaqus-UEL-Multiphysics\\subroutine_cube_C3D8T_transient_nlgeom_on_4NP.odb\n",
      "Deleted: c:\\LocalUserData\\User-data\\nguyenb5\\Abaqus-UEL-Multiphysics\\(solver case 1) cube_C3D8_elastic_nlgeom_off_nosymm\\solver_cube_C3D8_elastic_nlgeom_off_nosymm.odb\n",
      "Deleted: c:\\LocalUserData\\User-data\\nguyenb5\\Abaqus-UEL-Multiphysics\\(solver case 10) cube_C3D8T_transient_nlgeom_off_1NP\\solver_cube_C3D8T_transient_nlgeom_off_1NP.odb\n",
      "Deleted: c:\\LocalUserData\\User-data\\nguyenb5\\Abaqus-UEL-Multiphysics\\(solver case 11) cube_C3D8T_transient_nlgeom_on_4NP\\solver_cube_C3D8T_transient_nlgeom_on_4NP.odb\n",
      "Deleted: c:\\LocalUserData\\User-data\\nguyenb5\\Abaqus-UEL-Multiphysics\\(solver case 11) cube_C3D8T_transient_nlgeom_on_4NP_heat_transfer\\solver_cube_C3D8T_transient_nlgeom_on_4NP_heat_transfer.odb\n",
      "Deleted: c:\\LocalUserData\\User-data\\nguyenb5\\Abaqus-UEL-Multiphysics\\(solver case 12) cube_C3D8T_transient_nlgeom_on_1NP\\solver_cube_C3D8T_transient_nlgeom_on_1NP.odb\n",
      "Deleted: c:\\LocalUserData\\User-data\\nguyenb5\\Abaqus-UEL-Multiphysics\\(solver case 2) cube_C3D8_elastic_nlgeom_off_symm\\solver_cube_C3D8_elastic_nlgeom_off_symm.odb\n",
      "Deleted: c:\\LocalUserData\\User-data\\nguyenb5\\Abaqus-UEL-Multiphysics\\(solver case 3) cube_C3D8_elastic_nlgeom_on_nosymm\\solver_cube_C3D8_elastic_nlgeom_on_nosymm.odb\n",
      "Deleted: c:\\LocalUserData\\User-data\\nguyenb5\\Abaqus-UEL-Multiphysics\\(solver case 4) cube_C3D8_elastic_nlgeom_on_symm\\solver_cube_C3D8_elastic_nlgeom_on_symm.odb\n",
      "Deleted: c:\\LocalUserData\\User-data\\nguyenb5\\Abaqus-UEL-Multiphysics\\(solver case 5) cube_C3D8_plastic_nlgeom_off_nosymm\\solver_cube_C3D8_plastic_nlgeom_off_nosymm.odb\n",
      "Deleted: c:\\LocalUserData\\User-data\\nguyenb5\\Abaqus-UEL-Multiphysics\\(solver case 6) cube_C3D8_plastic_nlgeom_off_symm\\solver_cube_C3D8_plastic_nlgeom_off_symm.odb\n",
      "Deleted: c:\\LocalUserData\\User-data\\nguyenb5\\Abaqus-UEL-Multiphysics\\(solver case 7) cube_C3D8_plastic_nlgeom_on_nosymm\\solver_cube_C3D8_plastic_nlgeom_on_nosymm.odb\n",
      "Deleted: c:\\LocalUserData\\User-data\\nguyenb5\\Abaqus-UEL-Multiphysics\\(solver case 8) cube_C3D8_plastic_nlgeom_on_symm\\solver_cube_C3D8_plastic_nlgeom_on_symm.odb\n",
      "Deleted: c:\\LocalUserData\\User-data\\nguyenb5\\Abaqus-UEL-Multiphysics\\(solver case 9) cube_C3D8T_transient_nlgeom_off_4NP\\solver_cube_C3D8T_transient_nlgeom_off_4NP.odb\n",
      "Deleted: c:\\LocalUserData\\User-data\\nguyenb5\\Abaqus-UEL-Multiphysics\\(UEL case 11) cube_C3D8T_transient_nlgeom_on_4NP\\subroutine_cube_C3D8T_transient_nlgeom_on_4NP_UEL.odb\n",
      "Deleted: c:\\LocalUserData\\User-data\\nguyenb5\\Abaqus-UEL-Multiphysics\\(UEL case 11) cube_C3D8T_transient_nlgeom_on_4NP\\test_UMATHT\\UMAT_UMATHT_cube_C3D8T_transient_nlgeom_on_4NP.odb\n",
      "Deleted: c:\\LocalUserData\\User-data\\nguyenb5\\Abaqus-UEL-Multiphysics\\(UEL) cube_C3D8T_multiphysics\\elastic_plate.odb\n",
      "Deleted: c:\\LocalUserData\\User-data\\nguyenb5\\Abaqus-UEL-Multiphysics\\Abaqus-UEL-von-Mises-plasticity_part2\\cube_C3D8_elastic_solver_nlgeom_off_nosymm.odb\n",
      "Deleted: c:\\LocalUserData\\User-data\\nguyenb5\\Abaqus-UEL-Multiphysics\\Abaqus-UEL-von-Mises-plasticity_part2\\cube_C3D8_elastic_solver_nlgeom_off_symm.odb\n",
      "Deleted: c:\\LocalUserData\\User-data\\nguyenb5\\Abaqus-UEL-Multiphysics\\Abaqus-UEL-von-Mises-plasticity_part2\\cube_C3D8_elastic_solver_nlgeom_on_nosymm.odb\n",
      "Deleted: c:\\LocalUserData\\User-data\\nguyenb5\\Abaqus-UEL-Multiphysics\\Abaqus-UEL-von-Mises-plasticity_part2\\cube_C3D8_elastic_solver_nlgeom_on_symm.odb\n",
      "Deleted: c:\\LocalUserData\\User-data\\nguyenb5\\Abaqus-UEL-Multiphysics\\Abaqus-UEL-von-Mises-plasticity_part2\\cube_C3D8_plastic_solver_nlgeom_on_symm.odb\n",
      "Deleted: c:\\LocalUserData\\User-data\\nguyenb5\\Abaqus-UEL-Multiphysics\\Abaqus-UEL-von-Mises-plasticity_part2\\(UEL) cube_C3D8_elastic_solver_nlgeom_off_symm\\cube_C3D8_elastic_srt_nlgeom_off_symm_UEL.odb\n",
      "Deleted: c:\\LocalUserData\\User-data\\nguyenb5\\Abaqus-UEL-Multiphysics\\Abaqus-UEL-von-Mises-plasticity_part2\\(UEL) cube_C3D8_elastic_solver_nlgeom_on_symm\\cube_C3D8_elastic_srt_nlgeom_on_symm_UEL.odb\n",
      "Deleted: c:\\LocalUserData\\User-data\\nguyenb5\\Abaqus-UEL-Multiphysics\\test_CPFEM\\CPFEM_try2.odb\n"
     ]
    }
   ],
   "source": [
    "import os\n",
    "\n",
    "def delete_odb_files(root_dir):\n",
    "    for dirpath, dirnames, filenames in os.walk(root_dir):\n",
    "        for file in filenames:\n",
    "            if file.endswith('.odb'):\n",
    "                file_path = os.path.join(dirpath, file)\n",
    "                try:\n",
    "                    os.remove(file_path)\n",
    "                    print(f\"Deleted: {file_path}\")\n",
    "                except Exception as e:\n",
    "                    print(f\"Failed to delete {file_path}. Reason: {e}\")\n",
    "\n",
    "# Use current directory as root\n",
    "delete_odb_files(os.getcwd())\n"
   ]
  },
  {
   "cell_type": "markdown",
   "metadata": {},
   "source": []
  }
 ],
 "metadata": {
  "kernelspec": {
   "display_name": "Python 3",
   "language": "python",
   "name": "python3"
  },
  "language_info": {
   "codemirror_mode": {
    "name": "ipython",
    "version": 3
   },
   "file_extension": ".py",
   "mimetype": "text/x-python",
   "name": "python",
   "nbconvert_exporter": "python",
   "pygments_lexer": "ipython3",
   "version": "3.12.9"
  }
 },
 "nbformat": 4,
 "nbformat_minor": 2
}
