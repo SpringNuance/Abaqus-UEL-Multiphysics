{
 "cells": [
  {
   "cell_type": "code",
   "execution_count": 2,
   "metadata": {},
   "outputs": [],
   "source": [
    "def idx_conv(a,b):\n",
    "    if b==3:\n",
    "        return a*b\n",
    "    else:\n",
    "        return (a-1)*3 + b\n",
    "\n",
    "\n",
    "def proc_mtx(fn_in,fn_out):\n",
    "    fin = open(fn_in, 'r')\n",
    "    fout = open(fn_out, 'w')\n",
    "    for line in fin:\n",
    "        line = line.split(',')\n",
    "        v = float(line[4])\n",
    "        i = idx_conv(int(line[0]),int(line[1]))\n",
    "        j = idx_conv(int(line[2]),int(line[3]))\n",
    "        fout.write('{0},{1},{2}\\n'.format(i,j,v))\n",
    "        if i!=j:\n",
    "            fout.write('{0},{1},{2}\\n'.format(j,i,v))\n",
    "    fout.close()\n",
    "    fin.close()\n",
    "\n",
    "# find all files ending in .mtx\n",
    "\n",
    "import os\n",
    "for file in os.listdir('.'):\n",
    "    if file.endswith('.mtx'):\n",
    "        proc_mtx(file, file.replace('.mtx', '_proc.mtx'))\n"
   ]
  }
 ],
 "metadata": {
  "kernelspec": {
   "display_name": "Python 3",
   "language": "python",
   "name": "python3"
  },
  "language_info": {
   "codemirror_mode": {
    "name": "ipython",
    "version": 3
   },
   "file_extension": ".py",
   "mimetype": "text/x-python",
   "name": "python",
   "nbconvert_exporter": "python",
   "pygments_lexer": "ipython3",
   "version": "3.11.9"
  }
 },
 "nbformat": 4,
 "nbformat_minor": 2
}
