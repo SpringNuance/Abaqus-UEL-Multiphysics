{
 "cells": [
  {
   "cell_type": "code",
   "execution_count": 1,
   "metadata": {},
   "outputs": [
    {
     "name": "stdout",
     "output_type": "stream",
     "text": [
      "Total number of lines in all files: 3982\n"
     ]
    }
   ],
   "source": [
    "import os\n",
    "\n",
    "def count_lines_in_file(file_path):\n",
    "    \"\"\"Counts the number of lines in a file.\"\"\"\n",
    "    try:\n",
    "        with open(file_path, 'r', encoding='utf-8', errors='ignore') as f:\n",
    "            return sum(1 for _ in f)\n",
    "    except Exception as e:\n",
    "        print(f\"Skipping {file_path}: {e}\")\n",
    "        return 0\n",
    "\n",
    "def count_lines_in_directory(directory):\n",
    "    \"\"\"Recursively counts lines in all readable files in a directory.\"\"\"\n",
    "    total_lines = 0\n",
    "    for root, _, files in os.walk(directory):\n",
    "        for file in files:\n",
    "            file_path = os.path.join(root, file)\n",
    "            total_lines += count_lines_in_file(file_path)\n",
    "    return total_lines\n",
    "\n",
    "if __name__ == \"__main__\":\n",
    "    current_directory = os.getcwd()\n",
    "    total_lines = count_lines_in_directory(current_directory)\n",
    "    print(f\"Total number of lines in all files: {total_lines}\")\n"
   ]
  }
 ],
 "metadata": {
  "kernelspec": {
   "display_name": "Python 3",
   "language": "python",
   "name": "python3"
  },
  "language_info": {
   "codemirror_mode": {
    "name": "ipython",
    "version": 3
   },
   "file_extension": ".py",
   "mimetype": "text/x-python",
   "name": "python",
   "nbconvert_exporter": "python",
   "pygments_lexer": "ipython3",
   "version": "3.12.9"
  }
 },
 "nbformat": 4,
 "nbformat_minor": 2
}
